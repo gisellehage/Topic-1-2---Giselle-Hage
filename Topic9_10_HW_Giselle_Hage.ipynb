{
  "nbformat": 4,
  "nbformat_minor": 0,
  "metadata": {
    "colab": {
      "provenance": [],
      "authorship_tag": "ABX9TyNVg7JU8E3cmC3F4Kh0hroe",
      "include_colab_link": true
    },
    "kernelspec": {
      "name": "python3",
      "display_name": "Python 3"
    },
    "language_info": {
      "name": "python"
    }
  },
  "cells": [
    {
      "cell_type": "markdown",
      "metadata": {
        "id": "view-in-github",
        "colab_type": "text"
      },
      "source": [
        "<a href=\"https://colab.research.google.com/github/gisellehage/gisellehage.github.io/blob/main/Topic9_10_HW_Giselle_Hage.ipynb\" target=\"_parent\"><img src=\"https://colab.research.google.com/assets/colab-badge.svg\" alt=\"Open In Colab\"/></a>"
      ]
    },
    {
      "cell_type": "code",
      "source": [
        "#declaring data array\n",
        "data = [100,150,50,100,130,120,100,110,75,65,150,120,50,100,100,140,90,150,50,90]"
      ],
      "metadata": {
        "id": "LV9djnTBHTkI"
      },
      "execution_count": null,
      "outputs": []
    },
    {
      "cell_type": "code",
      "source": [
        "#one sample t-test\n",
        "stats.ttest_1samp(a=data, popmean=100)"
      ],
      "metadata": {
        "colab": {
          "base_uri": "https://localhost:8080/"
        },
        "id": "crX28IPrHySz",
        "outputId": "2eb4fbb9-5b1f-475e-95c0-f618eae4ddf4"
      },
      "execution_count": null,
      "outputs": [
        {
          "output_type": "execute_result",
          "data": {
            "text/plain": [
              "Ttest_1sampResult(statistic=0.2731657711666385, pvalue=0.787672894169515)"
            ]
          },
          "metadata": {},
          "execution_count": 3
        }
      ]
    },
    {
      "cell_type": "code",
      "source": [
        "#If using alpha = 0.05, use P-value/2 = 0.41. Thee concolusion is P-value/2 larger than alpha, meaning we fail to reject H0\n",
        "#Conclusion: The mean is equal to 100\n",
        "#If using t statistic, we have to find the critical region first:\n",
        "stats.t.ppf(1-(0.05/2), 19)"
      ],
      "metadata": {
        "colab": {
          "base_uri": "https://localhost:8080/"
        },
        "id": "Ay5TwilGIcrN",
        "outputId": "0bffb985-7050-4992-c362-5896d2cf4c74"
      },
      "execution_count": null,
      "outputs": [
        {
          "output_type": "execute_result",
          "data": {
            "text/plain": [
              "2.093024054408263"
            ]
          },
          "metadata": {},
          "execution_count": 4
        }
      ]
    },
    {
      "cell_type": "code",
      "source": [
        "# If H1: mean > 50 (right side)\n",
        "stats.t.ppf(1-0.05, 19)\n",
        "# Critical Region: t > 1.72\n",
        "# As t statistic is not in the critical region, then we fail to reject H0\n",
        "#Conclusion: The mean is equal to 50"
      ],
      "metadata": {
        "colab": {
          "base_uri": "https://localhost:8080/"
        },
        "id": "5tvTiOsyIxbx",
        "outputId": "98203f88-91c5-4474-afe3-ce59c96fe4f8"
      },
      "execution_count": null,
      "outputs": [
        {
          "output_type": "execute_result",
          "data": {
            "text/plain": [
              "1.729132811521367"
            ]
          },
          "metadata": {},
          "execution_count": 5
        }
      ]
    },
    {
      "cell_type": "code",
      "source": [
        "# If H1: mean < 50 (left side)\n",
        "stats.t.ppf(0.05, 19)\n",
        "# Critical Region: t < -1.72\n",
        "# As t statistic is not in the critical region, then we fail to reject H0\n",
        "#Conclusion: The mean is equal to 100"
      ],
      "metadata": {
        "colab": {
          "base_uri": "https://localhost:8080/"
        },
        "id": "n1tQftBJJK_8",
        "outputId": "65b62089-2576-42c5-9b82-17fc46a5a029"
      },
      "execution_count": null,
      "outputs": [
        {
          "output_type": "execute_result",
          "data": {
            "text/plain": [
              "-1.7291328115213678"
            ]
          },
          "metadata": {},
          "execution_count": 6
        }
      ]
    }
  ]
}